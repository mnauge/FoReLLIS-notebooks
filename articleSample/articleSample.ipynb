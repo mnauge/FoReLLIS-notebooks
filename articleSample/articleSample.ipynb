{
 "cells": [
  {
   "cell_type": "markdown",
   "metadata": {},
   "source": [
    "---\n",
    "# Les préfixes anglais un- et de- : Étude phonétique et acoustique\n",
    "---\n",
    "\n",
    "<b>Sylvie Hanote</b>$^{1}$, <b>Nicolas Videau<b>$^{1}$, <b>Franck Zumstein</b>$^{2}$ et <b>Philippe Carré</b>$^{3}$\n",
    "\n",
    "[[1] : FORELL A, EA3816, Université de Poitiers](https://halshs.archives-ouvertes.fr/FORELL)\n",
    "\n",
    "[[2] : CLILLAC-ARP, EA 3967, Université de Paris 7](https://hal.archives-ouvertes.fr/search/index/q/*/structId_i/199318/)\n",
    "\n",
    "[[3] : X-LIM SIC UMR CNRS 6172, Université de Poitiers](https://hal.archives-ouvertes.fr/search/index/q/*/structId_i/394113/)\n",
    "\n",
    "---\n",
    "\n",
    "\n",
    "\n",
    "\n",
    "\n"
   ]
  },
  {
   "cell_type": "markdown",
   "metadata": {},
   "source": [
    "## Introduction\n",
    "\n",
    "\n",
    "\n",
    "<p style='text-align: justify;'>\n",
    "Dans cette étude, nous nous intéressons à la prononciation des deux préfixes un- et de- en\n",
    "anglais. On distingue généralement deux types de préfixe : les préfixes séparables et les\n",
    "préfixes inséparables (ou pseudo-préfixes). Les préfixes séparables s’accolent à une base\n",
    "autonome et le sens de l’ensemble est compositionnel de la somme des deux parties. Par\n",
    "exemple, de- dans le verbe debone est séparable puisque bone est une base autonome, et\n",
    "que debone signifie « to remove the bones from », mais il est inséparable dans  deceive \n",
    "puisque -ceive n’est pas autonome. \n",
    "</p>\n",
    "\n",
    "<p style='text-align: justify;'>\n",
    "En revanche, un- est généralement considéré comme uniquement séparable. C’est le cas\n",
    "par exemple dans unfair où fair est une base autonome et unfair signifie not fair. \n",
    "À l’oral, la séparabilité du préfixe se traduit normalement par le fait qu’il est porteur d’un\n",
    "accent :\n",
    "</p>\n",
    "\n",
    "> Dans les préfixés à préfixe séparable, le préfixe et le radical sont traités comme des\n",
    "mots indépendants et en suivent les règles d’accentuation et de prononciation.\n",
    "([Guierre, L. 1987: 18](http://www.sudoc.abes.fr/DB=2.1//SRCH?IKT=12&TRM=003104672&COOKIE=U10178,Klecteurweb,I250,B341720009+,SY,NLECTEUR+WEBOPC,D2.1,E7efb06c9-c45,A,H,R195.220.223.244,FY))\n",
    "\n",
    "\n",
    "<p style='text-align: justify;'>\n",
    "Il s’agit généralement d’accent secondaire quand le mot est un verbe (<i>to debone /21/</i>) ou\n",
    "un adjectif (<i>unfair /21/</i>), principal lorsque c’est un nom (<i>a decaf /10/</i>). Par ailleurs, la\n",
    "voyelle d’un préfixe séparable a généralement une valeur pleine, relâchée dans le cas de\n",
    "un- ([ʌn]), tendue dans le cas de de- ([diː]). Dans cette étude, nous nous intéresserons dans\n",
    "un premier temps aux transcriptions par les dictionnaires de ces deux préfixes proposées\n",
    "et aux régularités proposées par L. Guierre. Ensuite, nous comparerons ces transcriptions\n",
    "aux données observables en discours et nous verrons que la prononciation du préfixe\n",
    "peut dépendre d’autres facteurs que celui de la séparabilité / inséparabilité du préfixe et\n",
    "de la base. \n",
    "</p>\n"
   ]
  },
  {
   "cell_type": "markdown",
   "metadata": {},
   "source": [
    "## Cadre théorique et notation des préfixes dans les dictionnaires\n",
    "\n",
    "<p style='text-align: justify;'>\n",
    "À partir des considérations théoriques rappelées en introduction, nous avons voulu\n",
    "observer la notation des deux préfixes de- et un- dans les dictionnaires. Nous avons choisi\n",
    "comme corpus de référence le dictionnaire de J.C. Wells, édition de 1990 (désormais LPD1),\n",
    "car   il   existe   sous   une   forme   numérique,   enrichie   par   L.   Guierre   de   données\n",
    "supplémentaires 1  et de balises, ce qui nous a permis d’effectuer des tris automatiques\n",
    "avec le logiciel de programmation MPW 2 . Grâce à ce logiciel, nous avons pu extraire les\n",
    "mots pertinents pour notre analyse (préfixés en de- et un-) et les trier selon leur schéma\n",
    "accentuel et selon la valeur de la voyelle du préfixe. \n",
    "Pour ce qui est de l’accentuation des préfixes séparables, on rencontre quatre cas de\n",
    "figure dans le dictionnaire de référence : \n",
    "\n",
    "<ul>\n",
    "<li>le préfixe peut être inaccentué /0/, </li>\n",
    "<li>il peut porter un accent secondaire /2/,</li> \n",
    "<li>il peut être optionnellement accentué /(2)/,</li>\n",
    "<li>il peut porter un accent principal /1/. </li>\n",
    "</ul>\n",
    "\n",
    "</p>\n"
   ]
  },
  {
   "cell_type": "markdown",
   "metadata": {},
   "source": [
    "### L’assimilation \n",
    "\n",
    "<p style='text-align: justify;'>\n",
    "Dans le corpus de référence de [L. Guierre $^{13}$](#notes) , aucune des entrées des mots préfixés en un-\n",
    "ne présente une assimilation phonétique de la consonne [n] devant les consonnes [p, b, m,\n",
    "k, g] en première prononciation. Il est certainement possible de conclure ici que ce\n",
    "blocage est l’une des caractéristiques des vrais préfixés. Cependant, s’il n’y a aucune trace\n",
    "d’assimilation en prononciation principale dans la plupart des entrées, J.C. Wells propose\n",
    "les transcriptions de formes assimilées en variante. Seuls quelques mots, regroupés dans\n",
    "le tableau ci-dessous, ne présentent pas cette variante dans leur entrée :\n",
    "</p>"
   ]
  },
  {
   "cell_type": "markdown",
   "metadata": {},
   "source": [
    "|Mot|Prononciation principale|Prononciation variante |\n",
    "|------|------|------|\n",
    "|<i>unbeaten</i>|(ˌ)ʌnˈbiːt $^{ə}$ n|Ø|\n",
    "|mais <i>unbeatable</i>|(ˌ)ʌnˈbiːtəb$^{ə}$ l|(ˌ)ʌm-\n",
    "|<i>unbounded</i>|(ˌ)ʌnˈbaʊndɪd|Ø|\n",
    "|mais <i>unbound</i>|(ˌ)ʌnˈbaʊnd|(ˌ)ʌm-|\n",
    "\n",
    "<center>\n",
    "<b>Figure 2 : Variation de prononciation</b>\n",
    "</center>\n",
    "\n"
   ]
  },
  {
   "cell_type": "markdown",
   "metadata": {
    "collapsed": true
   },
   "source": [
    "## Protocole expérimental\n",
    "\n",
    "\n",
    "Dans cette section nous nous interressons à extraire toutes les occurrences des mots de préfixe <i>un</i> dans le dictionnaires de [Buchanan $^{22}$](#bibliographie) et de [Walker$^{23}$](#notes).\n"
   ]
  },
  {
   "cell_type": "markdown",
   "metadata": {},
   "source": [
    "<p style='text-align: justify;'>\n",
    "Pour réalisé cette extraction nous utilisons l'édition numérique de ces dictionnaires sous forme de tableur CSV encodé en utf-8 et de séparateur point-virgule, dont l'édition numérique a été réalisée par  de Nicolas Trapateau.\n",
    "</p>\n",
    "\n",
    ">Cette édition est téléchargeable et réutilisable sous licence [CC BY 4.0 Creative Commons](http://creativecommons.org/licenses/by/4.0/)\n",
    "<a href=\"./datas/Walker-Buchanan_varSchAcc.csv\"><img src='./imgs/csvexport.png' width=\"80px\"></a>\n",
    "Pour citer ce jeu de données : [DOI:10.457881/walkerBuchananEdTrapateau](DOI:10.457881/walkerBuchananEdTrapateau)\n"
   ]
  },
  {
   "cell_type": "markdown",
   "metadata": {},
   "source": [
    "<p style='text-align: justify;'>\n",
    "Dans la pratique, nous commençons par charger les dictionnaire sous une forme matricielle.\n",
    "Nous ajoutons une colonne additionnelle permettant de connaitre le nombre de syllabe.\n",
    "Enfin nous appliquon un filtrage par expression régulière de la forme <i></i> sur la colonne <b>headword</b>.\n",
    "</p>"
   ]
  },
  {
   "cell_type": "code",
   "execution_count": 61,
   "metadata": {},
   "outputs": [
    {
     "data": {
      "text/html": [
       "<div>\n",
       "<style>\n",
       "    .dataframe thead tr:only-child th {\n",
       "        text-align: right;\n",
       "    }\n",
       "\n",
       "    .dataframe thead th {\n",
       "        text-align: left;\n",
       "    }\n",
       "\n",
       "    .dataframe tbody tr th {\n",
       "        vertical-align: top;\n",
       "    }\n",
       "</style>\n",
       "<table border=\"1\" class=\"dataframe\">\n",
       "  <thead>\n",
       "    <tr style=\"text-align: right;\">\n",
       "      <th></th>\n",
       "      <th>hwdR</th>\n",
       "      <th>posR</th>\n",
       "      <th>schAccentR_Walker</th>\n",
       "      <th>schAccentR_Buchanan</th>\n",
       "    </tr>\n",
       "  </thead>\n",
       "  <tbody>\n",
       "    <tr>\n",
       "      <th>0</th>\n",
       "      <td>abasement</td>\n",
       "      <td>noun</td>\n",
       "      <td>0-1-0</td>\n",
       "      <td>0-1-0-0</td>\n",
       "    </tr>\n",
       "    <tr>\n",
       "      <th>1</th>\n",
       "      <td>abatement</td>\n",
       "      <td>noun</td>\n",
       "      <td>0-1-0</td>\n",
       "      <td>0-1-0-0</td>\n",
       "    </tr>\n",
       "    <tr>\n",
       "      <th>2</th>\n",
       "      <td>abdomen</td>\n",
       "      <td>noun</td>\n",
       "      <td>0-1-0</td>\n",
       "      <td>0-0-0</td>\n",
       "    </tr>\n",
       "    <tr>\n",
       "      <th>3</th>\n",
       "      <td>ablution</td>\n",
       "      <td>noun</td>\n",
       "      <td>0-1-0</td>\n",
       "      <td>1-0-0</td>\n",
       "    </tr>\n",
       "    <tr>\n",
       "      <th>4</th>\n",
       "      <td>abortiveness</td>\n",
       "      <td>noun</td>\n",
       "      <td>0-1-0-0</td>\n",
       "      <td>0-1-0-0-0</td>\n",
       "    </tr>\n",
       "  </tbody>\n",
       "</table>\n",
       "</div>"
      ],
      "text/plain": [
       "           hwdR  posR schAccentR_Walker schAccentR_Buchanan\n",
       "0     abasement  noun             0-1-0             0-1-0-0\n",
       "1     abatement  noun             0-1-0             0-1-0-0\n",
       "2       abdomen  noun             0-1-0               0-0-0\n",
       "3      ablution  noun             0-1-0               1-0-0\n",
       "4  abortiveness  noun           0-1-0-0           0-1-0-0-0"
      ]
     },
     "execution_count": 61,
     "metadata": {},
     "output_type": "execute_result"
    }
   ],
   "source": [
    "#chargement des librairies\n",
    "%matplotlib inline\n",
    "import pandas as pd\n",
    "\n",
    "# chargement du dictionnaire Buchanan\n",
    "pathCsvFile = \"./datas/Walker-Buchanan_varSchAcc.csv\"\n",
    "dfWalkerBuch = pd.read_csv(pathCsvFile, sep=\";\", encoding=\"utf-8\")\n",
    "dfWalkerBuch.head(5)"
   ]
  },
  {
   "cell_type": "code",
   "execution_count": 53,
   "metadata": {},
   "outputs": [
    {
     "data": {
      "text/html": [
       "<div>\n",
       "<style>\n",
       "    .dataframe thead tr:only-child th {\n",
       "        text-align: right;\n",
       "    }\n",
       "\n",
       "    .dataframe thead th {\n",
       "        text-align: left;\n",
       "    }\n",
       "\n",
       "    .dataframe tbody tr th {\n",
       "        vertical-align: top;\n",
       "    }\n",
       "</style>\n",
       "<table border=\"1\" class=\"dataframe\">\n",
       "  <thead>\n",
       "    <tr style=\"text-align: right;\">\n",
       "      <th></th>\n",
       "      <th>hwdR</th>\n",
       "      <th>posR</th>\n",
       "      <th>schAccentR_Walker</th>\n",
       "      <th>schAccentR_Buchanan</th>\n",
       "      <th>nbsyll</th>\n",
       "    </tr>\n",
       "  </thead>\n",
       "  <tbody>\n",
       "    <tr>\n",
       "      <th>0</th>\n",
       "      <td>abasement</td>\n",
       "      <td>noun</td>\n",
       "      <td>0-1-0</td>\n",
       "      <td>0-1-0-0</td>\n",
       "      <td>3</td>\n",
       "    </tr>\n",
       "    <tr>\n",
       "      <th>1</th>\n",
       "      <td>abatement</td>\n",
       "      <td>noun</td>\n",
       "      <td>0-1-0</td>\n",
       "      <td>0-1-0-0</td>\n",
       "      <td>3</td>\n",
       "    </tr>\n",
       "    <tr>\n",
       "      <th>2</th>\n",
       "      <td>abdomen</td>\n",
       "      <td>noun</td>\n",
       "      <td>0-1-0</td>\n",
       "      <td>0-0-0</td>\n",
       "      <td>3</td>\n",
       "    </tr>\n",
       "    <tr>\n",
       "      <th>3</th>\n",
       "      <td>ablution</td>\n",
       "      <td>noun</td>\n",
       "      <td>0-1-0</td>\n",
       "      <td>1-0-0</td>\n",
       "      <td>3</td>\n",
       "    </tr>\n",
       "    <tr>\n",
       "      <th>4</th>\n",
       "      <td>abortiveness</td>\n",
       "      <td>noun</td>\n",
       "      <td>0-1-0-0</td>\n",
       "      <td>0-1-0-0-0</td>\n",
       "      <td>4</td>\n",
       "    </tr>\n",
       "  </tbody>\n",
       "</table>\n",
       "</div>"
      ],
      "text/plain": [
       "           hwdR  posR schAccentR_Walker schAccentR_Buchanan  nbsyll\n",
       "0     abasement  noun             0-1-0             0-1-0-0       3\n",
       "1     abatement  noun             0-1-0             0-1-0-0       3\n",
       "2       abdomen  noun             0-1-0               0-0-0       3\n",
       "3      ablution  noun             0-1-0               1-0-0       3\n",
       "4  abortiveness  noun           0-1-0-0           0-1-0-0-0       4"
      ]
     },
     "execution_count": 53,
     "metadata": {},
     "output_type": "execute_result"
    }
   ],
   "source": [
    "#ajout d'une nouvelle colonne contenant le nombre de syllabes \n",
    "#pour ne conserver pour la suite que les mot de plus de 2 syllabes\n",
    "def countSyll(schAccent):\n",
    "    return str(schAccent).count(\"-\")+1\n",
    "\n",
    "dfWalkerBuch[\"nbsyll\"] = dfWalkerBuch.apply(lambda x: countSyll(x.schAccentR_Walker),1)\n",
    "dfWalkerBuch.head(5)"
   ]
  },
  {
   "cell_type": "code",
   "execution_count": 40,
   "metadata": {},
   "outputs": [
    {
     "data": {
      "text/html": [
       "<div>\n",
       "<style>\n",
       "    .dataframe thead tr:only-child th {\n",
       "        text-align: right;\n",
       "    }\n",
       "\n",
       "    .dataframe thead th {\n",
       "        text-align: left;\n",
       "    }\n",
       "\n",
       "    .dataframe tbody tr th {\n",
       "        vertical-align: top;\n",
       "    }\n",
       "</style>\n",
       "<table border=\"1\" class=\"dataframe\">\n",
       "  <thead>\n",
       "    <tr style=\"text-align: right;\">\n",
       "      <th></th>\n",
       "      <th>hwdR</th>\n",
       "      <th>posR</th>\n",
       "      <th>schAccentR_Walker</th>\n",
       "      <th>schAccentR_Buchanan</th>\n",
       "      <th>nbsyll</th>\n",
       "    </tr>\n",
       "  </thead>\n",
       "  <tbody>\n",
       "    <tr>\n",
       "      <th>1579</th>\n",
       "      <td>unacceptableness</td>\n",
       "      <td>noun</td>\n",
       "      <td>0-1-0-0-0-0</td>\n",
       "      <td>0-0-1-0-0</td>\n",
       "      <td>6</td>\n",
       "    </tr>\n",
       "    <tr>\n",
       "      <th>1580</th>\n",
       "      <td>unaccessibleness</td>\n",
       "      <td>noun</td>\n",
       "      <td>0-0-1-0-0-0</td>\n",
       "      <td>0-0-1-0-0</td>\n",
       "      <td>6</td>\n",
       "    </tr>\n",
       "    <tr>\n",
       "      <th>1581</th>\n",
       "      <td>unattainableness</td>\n",
       "      <td>noun</td>\n",
       "      <td>0-0-1-0-0-0</td>\n",
       "      <td>0-0-1-0-0</td>\n",
       "      <td>6</td>\n",
       "    </tr>\n",
       "    <tr>\n",
       "      <th>1582</th>\n",
       "      <td>unbuckle</td>\n",
       "      <td>verb</td>\n",
       "      <td>0-1-0</td>\n",
       "      <td>0-1</td>\n",
       "      <td>3</td>\n",
       "    </tr>\n",
       "    <tr>\n",
       "      <th>1583</th>\n",
       "      <td>unchangeableness</td>\n",
       "      <td>noun</td>\n",
       "      <td>0-1-0-0-0</td>\n",
       "      <td>0-1-0-0</td>\n",
       "      <td>5</td>\n",
       "    </tr>\n",
       "    <tr>\n",
       "      <th>1584</th>\n",
       "      <td>uncharitableness</td>\n",
       "      <td>noun</td>\n",
       "      <td>0-1-0-0-0-0</td>\n",
       "      <td>0-1-0-0-0</td>\n",
       "      <td>6</td>\n",
       "    </tr>\n",
       "    <tr>\n",
       "      <th>1585</th>\n",
       "      <td>uncle</td>\n",
       "      <td>noun</td>\n",
       "      <td>1-0</td>\n",
       "      <td>1</td>\n",
       "      <td>2</td>\n",
       "    </tr>\n",
       "    <tr>\n",
       "      <th>1586</th>\n",
       "      <td>uncomeliness</td>\n",
       "      <td>noun</td>\n",
       "      <td>0-1-0-0</td>\n",
       "      <td>0-1-0-0-0</td>\n",
       "      <td>4</td>\n",
       "    </tr>\n",
       "    <tr>\n",
       "      <th>1587</th>\n",
       "      <td>uncomfortableness</td>\n",
       "      <td>noun</td>\n",
       "      <td>0-1-0-0-0-0</td>\n",
       "      <td>0-1-0-0-0</td>\n",
       "      <td>6</td>\n",
       "    </tr>\n",
       "    <tr>\n",
       "      <th>1588</th>\n",
       "      <td>unconceivableness</td>\n",
       "      <td>noun</td>\n",
       "      <td>0-0-1-0-0-0</td>\n",
       "      <td>0-0-1-0-0</td>\n",
       "      <td>6</td>\n",
       "    </tr>\n",
       "  </tbody>\n",
       "</table>\n",
       "</div>"
      ],
      "text/plain": [
       "                   hwdR  posR schAccentR_Walker schAccentR_Buchanan  nbsyll\n",
       "1579   unacceptableness  noun       0-1-0-0-0-0           0-0-1-0-0       6\n",
       "1580   unaccessibleness  noun       0-0-1-0-0-0           0-0-1-0-0       6\n",
       "1581   unattainableness  noun       0-0-1-0-0-0           0-0-1-0-0       6\n",
       "1582           unbuckle  verb             0-1-0                 0-1       3\n",
       "1583   unchangeableness  noun         0-1-0-0-0             0-1-0-0       5\n",
       "1584   uncharitableness  noun       0-1-0-0-0-0           0-1-0-0-0       6\n",
       "1585              uncle  noun               1-0                   1       2\n",
       "1586       uncomeliness  noun           0-1-0-0           0-1-0-0-0       4\n",
       "1587  uncomfortableness  noun       0-1-0-0-0-0           0-1-0-0-0       6\n",
       "1588  unconceivableness  noun       0-0-1-0-0-0           0-0-1-0-0       6"
      ]
     },
     "execution_count": 40,
     "metadata": {},
     "output_type": "execute_result"
    }
   ],
   "source": [
    "#filtrage \n",
    "dfWalkerBuchFun = dfWalkerBuch[dfWalkerBuch.hwdR.str.contains('^un')]\n",
    "dfWalkerBuchFun.head(10)"
   ]
  },
  {
   "cell_type": "markdown",
   "metadata": {},
   "source": [
    "<div class=\"alert alert-warning\">\n",
    "\n",
    " <b>Remarque</b>: après cette opération le dataframe dfWalkerBuchFun ne contient plus qu'un sous ensemble du dictionnaire initialement chargé\n",
    "\n",
    "</div>"
   ]
  },
  {
   "cell_type": "code",
   "execution_count": 57,
   "metadata": {},
   "outputs": [
    {
     "data": {
      "text/plain": [
       "<matplotlib.axes._subplots.AxesSubplot at 0x23eca970278>"
      ]
     },
     "execution_count": 57,
     "metadata": {},
     "output_type": "execute_result"
    },
    {
     "data": {
      "image/png": "[encoded data removed]",
      "text/plain": [
       "<matplotlib.figure.Figure at 0x23eca8ffa20>"
      ]
     },
     "metadata": {},
     "output_type": "display_data"
    }
   ],
   "source": [
    "#affichage sous forme de graphique \"pie\" la répartition des nbsyll\n",
    "dfHisto = dfWalkerBuchFun[\"nbsyll\"].value_counts()\n",
    "dfHisto.plot(kind='pie')"
   ]
  },
  {
   "cell_type": "code",
   "execution_count": 64,
   "metadata": {},
   "outputs": [
    {
     "data": {
      "image/png": "[encoded data removed]",
      "text/plain": [
       "<matplotlib.figure.Figure at 0x23ecaba5278>"
      ]
     },
     "metadata": {},
     "output_type": "display_data"
    }
   ],
   "source": [
    "#affichage sous forme d'histogramme la répartition des POS\n",
    "dfHisto = dfWalkerBuchFun[\"schAccentR_Walker\"].value_counts()\n",
    "plotHisto = dfHisto.plot(kind='barh')\n"
   ]
  },
  {
   "cell_type": "markdown",
   "metadata": {},
   "source": [
    "<div class=\"alert alert-info\">\n",
    "\n",
    " <b>A savoir</b>: Il est possible d'exporter ces graphiques en format vectoriel cf. exemple ci dessous.\n",
    " Cependant nous avons choisi de rendre directement téléchargeable l'ensemble des graphiques par ce [lien](plots). \n",
    "\n",
    "</div>"
   ]
  },
  {
   "cell_type": "code",
   "execution_count": 67,
   "metadata": {
    "collapsed": true
   },
   "outputs": [],
   "source": [
    "fig = plotHisto.get_figure()\n",
    "fig.savefig('./plots/hist-SchAccWalk.pdf')"
   ]
  },
  {
   "cell_type": "markdown",
   "metadata": {},
   "source": [
    "## Conclusion\n",
    "\n",
    "<p style='text-align: justify;'>\n",
    "Le traitement des préfixes un- et de- dans les dictionnaires de phonétique est peu stable\n",
    "(accentuation, valeur de la voyelle). En effet, nous avons vu en première partie qu’il\n",
    "pouvait  y  avoir  quelques  incohérences,   et  surtout  une  variabilité  importante.   Cette\n",
    "absence de stabilité dans la notation est sans doute le signe de la complexité de la\n",
    "problématique. \n",
    "<p>\n",
    "\n",
    "<p style='text-align: justify;'>\n",
    "Dans l’étude des préfixes un- et de- en discours, nous avons vu en effet que le problème de\n",
    "la préfixation est complexe et qu’il est difficile de prévoir les contextes dans lesquels telle\n",
    "ou telle autre réalisation du préfixe se dégage. En tout cas, ce qui est mis à mal ici, c’est la\n",
    "description   même   des   préfixes   séparables   en   des   termes   d’accentuation   et   de\n",
    "prononciation figée. En effet, les seuls cas où le préfixe est accentué de façon stable, c’est\n",
    "lorsqu’il est sous accent rythmique, cas non pertinents pour notre analyse. \n",
    "A part ce cas de figure, en discours, de nombreux autres paramètres sont à prendre en\n",
    "compte.   Certes,   il  faut   se  préoccuper  du  statut   du  préfixe  mais  aussi,   et  peut-être\n",
    "surtout du contexte: \n",
    "\n",
    "<ul>\n",
    "\n",
    "<li><b>contexte lexical</b>: dans le cas de unscathed par exemple, nous avons vu que le préfixe\n",
    "n’était pas accentué en phrase, qu’il était sans doute même réduit. Nous avons noté que\n",
    "c’était sans doute lié au fait qu’il n’y avait pas de concurrence lexicale possible; scathed n’est\n",
    "en effet pas attesté en anglais contemporain. Il n’y a ainsi pas de confusion possible. \n",
    "</li>\n",
    "\n",
    "<li><b>contexte syntaxique</b>: relatively unscathed dans notre exemple (2) peut être envisagé comme\n",
    "une collocation, l’adverbe + adjectif forment un ensemble accentuel, prononcé dans un seul\n",
    "groupe de souffle, sans doute avec un stress-shift sur la première syllabe de l’adverbe, d’où\n",
    "l’absence d’accent sur le préfixe. Il se passe la même chose dans l’exemple (3), dans lequel le\n",
    "syntagme a little natural ne semble pas possible, d’où le quasi-effacement du préfixe un- alors\n",
    "que natural, contrairement à scathed, est attesté en anglais. \n",
    "</li>\n",
    "\n",
    "<li><b>contexte discursif</b>: dans les exemples (5) et (6), c’est la présence de la paire accelerate et \n",
    "decelerate dans le même énoncé qui provoque sans doute la prononciation pleine et marquée\n",
    "du préfixe. Il s’agit-là de contraste paradigmatique. Il y a volonté de la part du locuteur de\n",
    "contraster deux éléments lexicaux antonymes. Dans ce cas-là, le préfixe subit une « recharge\n",
    "sémantique » et est de ce fait accentué. Il s’agit d’emphase.\n",
    "</li>\n",
    "\n",
    "</ul>\n",
    "</p>\n",
    "\n",
    "<p style='text-align: justify;'>\n",
    "Il resterait maintenant à tester le contexte phonétique, et bien d’autres sans doute\n",
    "encore. Tous ces paramètres devront également être testés sur un corpus plus important\n",
    "car, pour pouvoir proposer des hypothèses plus larges sur la prononciation des préfixes\n",
    "en contexte, il sera nécessaire de travailler sur un corpus oral de grande taille, et vérifier\n",
    "nos hypothèses sur la prononciation en contexte d’autres préfixes de l’anglais.\n",
    "</p>"
   ]
  },
  {
   "cell_type": "markdown",
   "metadata": {},
   "source": [
    "# bibliographie\n",
    "\n",
    "[22] Barlay, James, A Complete and Universal English Dictionary on a new plan, London: Richardson & Urquhart, 1774, XXVI + 1120 p. [Exemplaire de travail de Sophie Kraeber et Michael Nauge]\n",
    "\n",
    "[23] Walker, John, A critical pronouncing dictionary, and expositor of the English language, 6th stereotype edition, 1809 [éditée réalisée par [Nicolas Trapateau](https://halshs.archives-ouvertes.fr/search/index/q/*/authFullName_s/Nicolas+Trapateau)]. 26th stereotype edition, 1823; 29th stereotype edition, 1827.\n"
   ]
  },
  {
   "cell_type": "markdown",
   "metadata": {},
   "source": [
    "# notes\n",
    "\n",
    "[13] L. Guierre a fondé ses analyses sur une version informatisée par ses soins de la douzième\n",
    "édition (1963) du dictionnaire de Daniel Jones, English Pronouncing Dictionary."
   ]
  },
  {
   "cell_type": "markdown",
   "metadata": {
    "collapsed": true
   },
   "source": [
    "---\n",
    "<img src='./imgs/logoforellis.jpg' align=\"left\">\n",
    "<img src='./imgs/logoUP-130.png' align=\"right\">\n"
   ]
  }
 ],
 "metadata": {
  "kernelspec": {
   "display_name": "Python 3",
   "language": "python",
   "name": "python3"
  },
  "language_info": {
   "codemirror_mode": {
    "name": "ipython",
    "version": 3
   },
   "file_extension": ".py",
   "mimetype": "text/x-python",
   "name": "python",
   "nbconvert_exporter": "python",
   "pygments_lexer": "ipython3",
   "version": "3.6.3"
  }
 },
 "nbformat": 4,
 "nbformat_minor": 2
}
